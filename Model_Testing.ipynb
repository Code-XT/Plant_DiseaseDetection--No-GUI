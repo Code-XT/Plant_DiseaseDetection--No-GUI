{
  "nbformat": 4,
  "nbformat_minor": 0,
  "metadata": {
    "colab": {
      "provenance": []
    },
    "kernelspec": {
      "name": "python3",
      "display_name": "Python 3"
    },
    "language_info": {
      "name": "python"
    },
    "accelerator": "GPU"
  },
  "cells": [
    {
      "cell_type": "code",
      "source": [
        "from google.colab import drive\n",
        "drive.mount('/content/gdrive/MyDrive', force_remount=True)"
      ],
      "metadata": {
        "id": "1JUOCU-FGVoh"
      },
      "execution_count": null,
      "outputs": []
    },
    {
      "cell_type": "code",
      "source": [
        "import numpy as np\n",
        "import pandas as pd\n",
        "import matplotlib.pyplot as plt\n",
        "import os\n",
        "\n",
        "import keras\n",
        "from keras.preprocessing.image import ImageDataGenerator, img_to_array, load_img\n",
        "from keras.applications.vgg19 import VGG19, preprocess_input, decode_predictions\n",
        "from keras.models import load_model\n",
        "model=load_model(\"/content/Disease.h5\")"
      ],
      "metadata": {
        "id": "1Rvy2w6ulYOP"
      },
      "execution_count": null,
      "outputs": []
    },
    {
      "cell_type": "code",
      "source": [
        "ref= dict(zip(list(train.class_indices.values()), list(train.class_indices.keys())))"
      ],
      "metadata": {
        "id": "ywD-sg-TtyHb"
      },
      "execution_count": null,
      "outputs": []
    },
    {
      "cell_type": "code",
      "source": [
        "def prediction(path):\n",
        "  img=load_img(path, target_size=(256,256))\n",
        "  i=img_to_array(img)\n",
        "  im=preprocess_input(i)\n",
        "  img=np.expand_dims(im, axis=0)\n",
        "\n",
        "  pred=np.argmax(model.predict(img))\n",
        "  print(f\"Disease: {ref[pred]}\")"
      ],
      "metadata": {
        "id": "Lnxj8BY4lsTU"
      },
      "execution_count": null,
      "outputs": []
    },
    {
      "cell_type": "code",
      "source": [
        "path=\"/content/Three-common-apple-fruit-diseases-a-apple-scab-b-apple-rot-and-c-apple-blotch.png\"\n",
        "prediction(path)"
      ],
      "metadata": {
        "colab": {
          "base_uri": "https://localhost:8080/"
        },
        "id": "2VmksPzVmiZc",
        "outputId": "0dd9ef35-8ff9-4c1d-d2fe-cbbd18af4fa4"
      },
      "execution_count": null,
      "outputs": [
        {
          "output_type": "stream",
          "name": "stdout",
          "text": [
            "Disease: Orange___Haunglongbing_(Citrus_greening)\n"
          ]
        }
      ]
    }
  ]
}